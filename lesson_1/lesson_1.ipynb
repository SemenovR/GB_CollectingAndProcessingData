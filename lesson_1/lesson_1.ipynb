{
 "cells": [
  {
   "cell_type": "markdown",
   "metadata": {},
   "source": [
    "# Задание 1.\n",
    "Помотреть документацию к API Гитхаба. Разобраться и вывести список всех репозиториев для конкретного пользователя.\n",
    "# Задание 2.\n",
    "Выполнить запрос методом GET к ресурсам, использующим любой тип авторизации через Postman, Python."
   ]
  },
  {
   "cell_type": "markdown",
   "metadata": {},
   "source": [
    "# Решение"
   ]
  },
  {
   "cell_type": "code",
   "execution_count": 29,
   "metadata": {},
   "outputs": [],
   "source": [
    "import requests"
   ]
  },
  {
   "cell_type": "code",
   "execution_count": 30,
   "metadata": {},
   "outputs": [],
   "source": [
    "def get_token():\n",
    "    f = open(\"../resource/github_token.txt\", \"r\")\n",
    "    token = f.readline().rstrip('\\n')\n",
    "    f.close()\n",
    "    return token"
   ]
  },
  {
   "cell_type": "code",
   "execution_count": 31,
   "metadata": {},
   "outputs": [],
   "source": [
    "def get_user_agent():\n",
    "    f = open(\"../resource/user-agent.txt\", \"r\")\n",
    "    user_agent = f.readline().rstrip('\\n')\n",
    "    f.close()\n",
    "    return user_agent"
   ]
  },
  {
   "cell_type": "code",
   "execution_count": 33,
   "metadata": {},
   "outputs": [],
   "source": [
    "main_link = 'https://api.github.com'\n",
    "link = f'{main_link}/users/SemenovR/repos'\n",
    "headers = {\"User-Agent\": get_user_agent(), \n",
    "           \"Authorization\": 'Bearer ' + get_token()}\n",
    "\n",
    "req = requests.get(link, headers = headers)"
   ]
  },
  {
   "cell_type": "code",
   "execution_count": 40,
   "metadata": {},
   "outputs": [
    {
     "name": "stdout",
     "output_type": "stream",
     "text": [
      "Список репозиториев:\n",
      "GB_CollectingAndProcessingData\n",
      "GB_IntroToHigherMath\n",
      "GB_MySQL\n",
      "GB_Python\n"
     ]
    }
   ],
   "source": [
    "if req.ok:\n",
    "    print('Список репозиториев:')\n",
    "    for data in req.json():\n",
    "        print(data['name'])"
   ]
  },
  {
   "cell_type": "code",
   "execution_count": null,
   "metadata": {},
   "outputs": [],
   "source": []
  }
 ],
 "metadata": {
  "kernelspec": {
   "display_name": "Python 3",
   "language": "python",
   "name": "python3"
  },
  "language_info": {
   "codemirror_mode": {
    "name": "ipython",
    "version": 3
   },
   "file_extension": ".py",
   "mimetype": "text/x-python",
   "name": "python",
   "nbconvert_exporter": "python",
   "pygments_lexer": "ipython3",
   "version": "3.7.3"
  }
 },
 "nbformat": 4,
 "nbformat_minor": 2
}
